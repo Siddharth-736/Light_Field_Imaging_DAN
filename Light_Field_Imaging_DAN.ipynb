{
  "cells": [
    {
      "cell_type": "markdown",
      "metadata": {
        "id": "n9dbws6Vo--1"
      },
      "source": [
        "#Tensorflow:Basics\n"
      ]
    },
    {
      "cell_type": "code",
      "execution_count": null,
      "metadata": {
        "colab": {
          "base_uri": "https://localhost:8080/"
        },
        "id": "8ZD9uXdfnCC3",
        "outputId": "bfe577a0-fe05-4570-ca53-7bd398fc6bc8"
      },
      "outputs": [
        {
          "output_type": "stream",
          "name": "stdout",
          "text": [
            "Colab only includes TensorFlow 2.x; %tensorflow_version has no effect.\n",
            "<module 'tensorflow._api.v2.version' from '/usr/local/lib/python3.10/dist-packages/tensorflow/_api/v2/version/__init__.py'>\n"
          ]
        }
      ],
      "source": [
        "%tensorflow_version 2.x\n",
        "import tensorflow as tf\n",
        "import numpy as np\n",
        "import matplotlib.pyplot as plt\n",
        "from tensorflow import keras\n",
        "print(tf.version)\n"
      ]
    },
    {
      "cell_type": "code",
      "execution_count": null,
      "metadata": {
        "id": "oK-7fTSuNLSA"
      },
      "outputs": [],
      "source": [
        "#@title Creating Tensors\n",
        "string = tf.Variable(\"this is a string\",tf.string)\n",
        "number = tf.Variable(324,tf.int32)\n",
        "floating = tf.Variable(1.65842,tf.float64)\n"
      ]
    },
    {
      "cell_type": "markdown",
      "metadata": {
        "id": "mgvAOkMROt1I"
      },
      "source": [
        "##Rank/Degree of Tensors\n",
        "Rank of a tensor signifies the number of axis/dimension of a tensor"
      ]
    },
    {
      "cell_type": "code",
      "execution_count": null,
      "metadata": {
        "id": "dGimR9fZO6Jp"
      },
      "outputs": [],
      "source": [
        "rank_1_tensor = tf.Variable([1,2,3,4],dtype = tf.int32)\n",
        "rank_2_tensor = tf.Variable([[1,2,3],[4,5,6]],tf.int32)\n",
        "rank_3_tensor = tf.ones([2,3,3],tf.int32)"
      ]
    },
    {
      "cell_type": "code",
      "execution_count": null,
      "metadata": {
        "colab": {
          "base_uri": "https://localhost:8080/"
        },
        "id": "LBMmRIJ2PrzJ",
        "outputId": "a348e963-c793-4bc9-ffc1-9636379c5e1c"
      },
      "outputs": [
        {
          "name": "stdout",
          "output_type": "stream",
          "text": [
            "<tf.Variable 'Variable:0' shape=(4,) dtype=int32, numpy=array([1, 2, 3, 4], dtype=int32)>\n",
            "<tf.Variable 'Variable:0' shape=(2, 3) dtype=int32, numpy=\n",
            "array([[1, 2, 3],\n",
            "       [4, 5, 6]], dtype=int32)>\n",
            "tf.Tensor(\n",
            "[[[1 1 1]\n",
            "  [1 1 1]\n",
            "  [1 1 1]]\n",
            "\n",
            " [[1 1 1]\n",
            "  [1 1 1]\n",
            "  [1 1 1]]], shape=(2, 3, 3), dtype=int32)\n"
          ]
        }
      ],
      "source": [
        "print(rank_1_tensor)\n",
        "print(rank_2_tensor)\n",
        "print(rank_3_tensor)"
      ]
    },
    {
      "cell_type": "code",
      "execution_count": null,
      "metadata": {
        "colab": {
          "base_uri": "https://localhost:8080/"
        },
        "id": "pRuduFXGP6nk",
        "outputId": "35bb6a95-a1f2-4311-fa59-207c69362a98"
      },
      "outputs": [
        {
          "name": "stdout",
          "output_type": "stream",
          "text": [
            "tf.Tensor(1, shape=(), dtype=int32)\n",
            "tf.Tensor(2, shape=(), dtype=int32)\n",
            "tf.Tensor(3, shape=(), dtype=int32)\n"
          ]
        }
      ],
      "source": [
        "#@title Determining rank of a tensor\n",
        "print(tf.rank(rank_1_tensor))\n",
        "print(tf.rank(rank_2_tensor))\n",
        "print(tf.rank(rank_3_tensor))"
      ]
    },
    {
      "cell_type": "markdown",
      "metadata": {
        "id": "3phEkAjNTaMD"
      },
      "source": [
        "## Shape of Tensors\n",
        "Shape of a tensor is simply the number of elements that exist in each dimension"
      ]
    },
    {
      "cell_type": "code",
      "execution_count": null,
      "metadata": {
        "colab": {
          "base_uri": "https://localhost:8080/",
          "height": 160
        },
        "id": "gTcf9ql3T_Nd",
        "outputId": "359c70d5-fb29-4b65-a157-235100ed67d2"
      },
      "outputs": [
        {
          "data": {
            "text/plain": [
              "<tf.Variable 'Variable:0' shape=(2, 2, 3) dtype=int32, numpy=\n",
              "array([[[ 1,  2,  3],\n",
              "        [ 4,  5,  6]],\n",
              "\n",
              "       [[ 7,  8,  9],\n",
              "        [10, 11, 12]]], dtype=int32)>"
            ]
          },
          "metadata": {},
          "output_type": "display_data"
        },
        {
          "name": "stdout",
          "output_type": "stream",
          "text": [
            "tf.Tensor(3, shape=(), dtype=int32)\n",
            "(2, 2, 3)\n"
          ]
        }
      ],
      "source": [
        "tensor_a = tf.Variable([[[1,2,3],[4,5,6]],[[7,8,9],[10,11,12]]],tf.int64)\n",
        "display(tensor_a)\n",
        "print(tf.rank(tensor_a))\n",
        "print(tensor_a.shape)"
      ]
    },
    {
      "cell_type": "markdown",
      "metadata": {
        "id": "7rtCXNucVgmG"
      },
      "source": [
        "## Changing Shape\n",
        "The number of elements in a tensor is the product of sizes of all it's shapes. There are often many shapes that have the same number of elements, making it convenient to be able to change the shape of a tensor."
      ]
    },
    {
      "cell_type": "code",
      "execution_count": null,
      "metadata": {
        "colab": {
          "base_uri": "https://localhost:8080/"
        },
        "id": "5zNliWP2V0Nm",
        "outputId": "d6941418-90df-493b-be7c-423ad04e5a5e"
      },
      "outputs": [
        {
          "name": "stdout",
          "output_type": "stream",
          "text": [
            "tf.Tensor(\n",
            "[[[1. 1. 1.]\n",
            "  [1. 1. 1.]]], shape=(1, 2, 3), dtype=float32)\n",
            "tf.Tensor(\n",
            "[[[1.]\n",
            "  [1.]\n",
            "  [1.]]\n",
            "\n",
            " [[1.]\n",
            "  [1.]\n",
            "  [1.]]], shape=(2, 3, 1), dtype=float32)\n",
            "tf.Tensor(\n",
            "[[1. 1.]\n",
            " [1. 1.]\n",
            " [1. 1.]], shape=(3, 2), dtype=float32)\n"
          ]
        }
      ],
      "source": [
        "tensor1 = tf.ones([1,2,3]) #Tensor of rank 3, conttaning 6 elements\n",
        "tensor2= tf.reshape(tensor1,[2,3,1]) #Reshaping the above tensor to [2,3,1]\n",
        "tensor3 = tf.reshape(tensor2,[3,-1]) #-1 tells the tensor to calculate the dimension of the tensor given 3 as one of the dimension\n",
        "print(tensor1)\n",
        "print(tensor2)\n",
        "print(tensor3)"
      ]
    },
    {
      "cell_type": "markdown",
      "metadata": {
        "id": "A4cqMgN2b1Kk"
      },
      "source": [
        "## Slicing Tensors\n",
        "To slice elements from a tensor, we can use comma seperated values inside the set of square brackets. Each subsequent value references a different dimension of a tensor\n"
      ]
    },
    {
      "cell_type": "code",
      "execution_count": null,
      "metadata": {
        "colab": {
          "base_uri": "https://localhost:8080/"
        },
        "id": "j0G7kUt1Z7-k",
        "outputId": "db85c138-0b86-4027-ee95-9d341dbc29a7"
      },
      "outputs": [
        {
          "name": "stdout",
          "output_type": "stream",
          "text": [
            "<tf.Variable 'Variable:0' shape=(5, 5) dtype=int32, numpy=\n",
            "array([[ 1,  2,  3,  4,  5],\n",
            "       [ 6,  7,  8,  9, 10],\n",
            "       [11, 12, 13, 14, 15],\n",
            "       [16, 17, 18, 19, 20],\n",
            "       [21, 22, 23, 24, 25]], dtype=int32)>\n",
            "tf.Tensor(2, shape=(), dtype=int32)\n",
            "(5, 5)\n"
          ]
        }
      ],
      "source": [
        "matrix=[[1,2,3,4,5],\n",
        "        [6,7,8,9,10],\n",
        "        [11,12,13,14,15],\n",
        "        [16,17,18,19,20],\n",
        "        [21,22,23,24,25]]\n",
        "tensor_4 = tf.Variable(matrix,tf.int64)\n",
        "print(tensor_4)\n",
        "print(tf.rank(tensor_4))\n",
        "print(tensor_4.shape)"
      ]
    },
    {
      "cell_type": "code",
      "execution_count": null,
      "metadata": {
        "colab": {
          "base_uri": "https://localhost:8080/"
        },
        "id": "TSA2wltUcrVU",
        "outputId": "170f1e96-2358-41cf-cdcd-a9b2d0483337"
      },
      "outputs": [
        {
          "name": "stdout",
          "output_type": "stream",
          "text": [
            "1\n",
            "[1 2 3 4 5]\n",
            "[ 1  6 11 16 21]\n",
            "[ 6 11]\n"
          ]
        }
      ],
      "source": [
        "#@title Slicing on tensor_4\n",
        "first_ele = tensor_4[0,0].numpy()\n",
        "print(first_ele)\n",
        "first_row = tensor_4[0,:].numpy()\n",
        "print(first_row)\n",
        "first_col = tensor_4[:,0].numpy()\n",
        "print(first_col)\n",
        "col_1_in_row_2_and_3 = tensor_4[1:3,0].numpy()\n",
        "print(col_1_in_row_2_and_3)"
      ]
    },
    {
      "cell_type": "code",
      "execution_count": null,
      "metadata": {
        "colab": {
          "base_uri": "https://localhost:8080/"
        },
        "id": "MVxVwPOfdDk-",
        "outputId": "71bf8f70-0a4b-4c5c-c8f6-13b48e17630d"
      },
      "outputs": [
        {
          "name": "stdout",
          "output_type": "stream",
          "text": [
            "tf.Tensor(1, shape=(), dtype=int32)\n"
          ]
        }
      ],
      "source": [
        "import tensorflow as tf\n",
        "#@title Practice\n",
        "x = tf.Variable([1,2,3,4],dtype = tf.int32)\n",
        "print(tf.rank(x))"
      ]
    },
    {
      "cell_type": "markdown",
      "metadata": {
        "id": "1Cfbxe0Fwhcv"
      },
      "source": [
        "# Regression Model\n",
        "One layer model with one neuron and one input\n",
        "\n"
      ]
    },
    {
      "cell_type": "code",
      "execution_count": null,
      "metadata": {
        "id": "8oKnDeSFwpVH"
      },
      "outputs": [],
      "source": [
        "#Defining and compiling the model using stochastic gradient descent optimizer and loss function MSE\n",
        "model = tf.keras.Sequential([keras.layers.Dense(units = 1,input_shape=[1])])\n",
        "model.compile(optimizer='sgd',loss='mean_squared_error')\n"
      ]
    },
    {
      "cell_type": "code",
      "execution_count": null,
      "metadata": {
        "id": "btnBs3mnz4ja"
      },
      "outputs": [],
      "source": [
        "#Input data\n",
        "X = np.array([-1,0,1,2,3,4],dtype = float)\n",
        "Y = np.array([-3,-1,1,3,5,7],dtype = float)\n"
      ]
    },
    {
      "cell_type": "code",
      "execution_count": null,
      "metadata": {
        "id": "Wjmjo0PK0Fji"
      },
      "outputs": [],
      "source": [
        "#Model Fitting\n",
        "model.fit(X,Y, epochs = 500)"
      ]
    },
    {
      "cell_type": "code",
      "execution_count": null,
      "metadata": {
        "colab": {
          "base_uri": "https://localhost:8080/"
        },
        "id": "-ezLlKhL0UPJ",
        "outputId": "f358db66-cc3e-479d-8056-33096f524e23"
      },
      "outputs": [
        {
          "name": "stdout",
          "output_type": "stream",
          "text": [
            "1/1 [==============================] - 0s 96ms/step\n",
            "[[18.98019]]\n"
          ]
        }
      ],
      "source": [
        "#Predicting new value\n",
        "print(model.predict([10]))"
      ]
    },
    {
      "cell_type": "code",
      "execution_count": null,
      "metadata": {
        "id": "JRoOzLk42xAC"
      },
      "outputs": [],
      "source": [
        "#@title Housing price prediction\n",
        "model_house = tf.keras.Sequential([tf.keras.layers.Dense(units = 1,input_shape = [1])])\n",
        "model_house.compile(optimizer = 'sgd',loss='mean_squared_error')\n",
        "X_house = np.array([1,2,3,4,5,6],dtype = float)\n",
        "Y_house= np.array([1,1.5,2,2.5,3,3.5],dtype = float)\n",
        "model_house.fit(X_house,Y_house,epochs = 1000)\n"
      ]
    },
    {
      "cell_type": "code",
      "execution_count": null,
      "metadata": {
        "colab": {
          "base_uri": "https://localhost:8080/"
        },
        "id": "6mN_UhMa4m1g",
        "outputId": "9cd40eaf-ab74-4599-eee2-92910d11c063"
      },
      "outputs": [
        {
          "name": "stdout",
          "output_type": "stream",
          "text": [
            "1/1 [==============================] - 0s 35ms/step\n"
          ]
        },
        {
          "data": {
            "text/plain": [
              "array([[4.00405]], dtype=float32)"
            ]
          },
          "execution_count": 26,
          "metadata": {},
          "output_type": "execute_result"
        }
      ],
      "source": [
        "#Prediction\n",
        "model_house.predict([7])"
      ]
    },
    {
      "cell_type": "markdown",
      "metadata": {
        "id": "0drqEMdC89Fb"
      },
      "source": [
        "# Computer Vision\n",
        "Image classififcation problem using MNIST_fashion Dataset"
      ]
    },
    {
      "cell_type": "code",
      "execution_count": null,
      "metadata": {
        "id": "_KFYKVVs9GWZ"
      },
      "outputs": [],
      "source": [
        "#@title Loading Data\n",
        "mnist = tf.keras.datasets.fashion_mnist\n",
        "(training_images,training_labels),(testing_images,testing_labels) = mnist.load_data()\n"
      ]
    },
    {
      "cell_type": "code",
      "source": [
        "training_images.shape"
      ],
      "metadata": {
        "colab": {
          "base_uri": "https://localhost:8080/"
        },
        "id": "_d5cDeOXvJ8_",
        "outputId": "24542784-fcaa-439a-9b11-3c8d6be83485"
      },
      "execution_count": null,
      "outputs": [
        {
          "output_type": "execute_result",
          "data": {
            "text/plain": [
              "(60000, 28, 28)"
            ]
          },
          "metadata": {},
          "execution_count": 3
        }
      ]
    },
    {
      "cell_type": "code",
      "execution_count": null,
      "metadata": {
        "colab": {
          "base_uri": "https://localhost:8080/",
          "height": 1000
        },
        "id": "tNjwUsyrCvyA",
        "outputId": "43467d35-d12f-42e7-a360-b48c42088454"
      },
      "outputs": [
        {
          "output_type": "stream",
          "name": "stdout",
          "text": [
            "3\n",
            "[[  0   0   0   0   0   1   0   0   0  65  99   0   0   0   0   0   0   0\n",
            "  106  60   0   0   0   0   0   0   0   0]\n",
            " [  0   0   0   0   0   1   0  17 190 206 202 145 148 146 148 166 165 189\n",
            "  212 210 202   0   0   0   0   0   0   0]\n",
            " [  0   0   0   0   0   0   0 160 229 193 189 197 169 182 109 165 156 202\n",
            "  198 196 233  96   0   0   0   0   0   0]\n",
            " [  0   0   0   0   0   0   2 199 198 213 193 201 207 196 172 211 206 207\n",
            "  200 202 208 217   0   0   0   0   0   0]\n",
            " [  0   0   0   0   0   0 139 205 200 207 190 192 210 210 208 212 208 197\n",
            "  201 210 206 205  83   0   0   0   0   0]\n",
            " [  0   0   0   0   0   2 196 220 200 200 190 193 199 222 222 225 199 198\n",
            "  210 212 218 227 189   0   0   0   0   0]\n",
            " [  0   0   0   0   0   0   0 162 215 199 192 196 195 204 221 200 195 205\n",
            "  208 218 235 170   0   0   0   0   0   0]\n",
            " [  0   0   0   0   0   0   0   0 172 240 192 204 203 206 203 199 206 215\n",
            "  211 232 114   0   0   0   0   0   0   0]\n",
            " [  0   0   0   0   0   0   2   0   0  32 235 200 206 208 205 204 208 215\n",
            "  252  10   0   0   0   0   0   0   0   0]\n",
            " [  0   0   0   0   0   1   0   3   0  12 247 201 208 210 206 208 211 216\n",
            "  255   0   0   0   0   0   0   0   0   0]\n",
            " [  0   0   0   0   0   0   0   2   0   5 247 205 214 207 208 211 211 220\n",
            "  251   0   0   1   0   0   0   0   0   0]\n",
            " [  0   0   0   0   0   0   0   1   0   0 241 210 210 207 213 214 211 222\n",
            "  241   0   0   1   0   0   0   0   0   0]\n",
            " [  0   0   0   0   0   0   1   0   0   0 202 217 206 211 216 219 212 226\n",
            "  226   0   0   1   0   0   0   0   0   0]\n",
            " [  0   0   0   0   0   1   0   0   0   0 214 213 208 204 223 210 213 216\n",
            "  213  17   0   2   0   0   0   0   0   0]\n",
            " [  0   0   0   0   0   0   0   2   0  99 218 202 211 205 220 205 215 205\n",
            "  229 152   0   0   0   0   0   0   0   0]\n",
            " [  0   0   0   0   0   0   0   1   0 165 214 204 211 213 214 211 217 208\n",
            "  219 203   0   0   0   0   0   0   0   0]\n",
            " [  0   0   0   0   0   0   0   0   0 188 213 208 206 212 218 208 216 204\n",
            "  218 197   0   0   2   0   0   0   0   0]\n",
            " [  0   0   0   0   0   0   1   0   0 213 210 216 204 214 217 205 217 208\n",
            "  215 212   2   0   2   0   0   0   0   0]\n",
            " [  0   0   0   0   0   0   2   0   0 225 210 219 201 214 218 205 216 207\n",
            "  214 221  17   0   2   0   0   0   0   0]\n",
            " [  0   0   0   0   0   0   2   0   0 197 211 215 200 216 219 210 215 208\n",
            "  213 227  35   0   2   0   0   0   0   0]\n",
            " [  0   0   0   0   0   0   3   0   3 206 210 219 199 215 222 210 215 211\n",
            "  211 228  60   0   2   0   0   0   0   0]\n",
            " [  0   0   0   0   0   0   2   0  11 208 211 220 200 215 223 211 214 212\n",
            "  210 229  69   0   2   0   0   0   0   0]\n",
            " [  0   0   0   0   0   0   2   0   7 207 213 218 201 216 222 214 213 213\n",
            "  211 228  61   0   2   0   0   0   0   0]\n",
            " [  0   0   0   0   0   0   2   0   0 203 215 217 201 216 222 213 213 213\n",
            "  212 228  47   0   3   0   0   0   0   0]\n",
            " [  0   0   0   0   0   0   2   0   0 196 218 216 201 216 223 214 212 215\n",
            "  214 226  27   0   2   0   0   0   0   0]\n",
            " [  0   0   0   0   0   0   2   0   0 221 221 212 202 216 222 216 212 213\n",
            "  212 221  17   0   3   0   0   0   0   0]\n",
            " [  0   0   0   0   0   0   1   0   0 203 227 212 213 228 235 229 226 226\n",
            "  217 225  17   0   2   0   0   0   0   0]\n",
            " [  0   0   0   0   0   0   0   0   0 176 216 202 184 178 188 184 185 183\n",
            "  199 207   3   0   2   0   0   0   0   0]]\n"
          ]
        },
        {
          "output_type": "display_data",
          "data": {
            "text/plain": [
              "<Figure size 640x480 with 1 Axes>"
            ],
            "image/png": "[encoded data removed]"
          },
          "metadata": {}
        }
      ],
      "source": [
        "plt.imshow(training_images[20])\n",
        "print(training_labels[20])\n",
        "print(training_images[20])\n"
      ]
    },
    {
      "cell_type": "code",
      "execution_count": null,
      "metadata": {
        "id": "UTGDQeQ0JnTu"
      },
      "outputs": [],
      "source": [
        "#For Neural network to be applied easily it's better to normalize the data between [0,1]\n",
        "training_images = training_images/255.0\n",
        "testing_images = testing_images/255.0 #Divided by 255 as highest gray level is 255 or 8-bit\n"
      ]
    },
    {
      "cell_type": "code",
      "execution_count": null,
      "metadata": {
        "colab": {
          "base_uri": "https://localhost:8080/"
        },
        "id": "KMFQd1C3KO90",
        "outputId": "348b0f50-1e1f-4d6c-aee8-94ab9e8f67d1"
      },
      "outputs": [
        {
          "output_type": "stream",
          "name": "stdout",
          "text": [
            "Epoch 1/15\n",
            "1875/1875 [==============================] - 6s 3ms/step - loss: 0.4986 - accuracy: 0.8238\n",
            "Epoch 2/15\n",
            "1875/1875 [==============================] - 5s 2ms/step - loss: 0.3757 - accuracy: 0.8637\n",
            "Epoch 3/15\n",
            "1875/1875 [==============================] - 5s 3ms/step - loss: 0.3361 - accuracy: 0.8763\n",
            "Epoch 4/15\n",
            "1875/1875 [==============================] - 5s 2ms/step - loss: 0.3148 - accuracy: 0.8847\n",
            "Epoch 5/15\n",
            "1875/1875 [==============================] - 5s 2ms/step - loss: 0.2963 - accuracy: 0.8903\n",
            "Epoch 6/15\n",
            "1875/1875 [==============================] - 6s 3ms/step - loss: 0.2817 - accuracy: 0.8956\n",
            "Epoch 7/15\n",
            "1875/1875 [==============================] - 4s 2ms/step - loss: 0.2699 - accuracy: 0.8988\n",
            "Epoch 8/15\n",
            "1875/1875 [==============================] - 5s 3ms/step - loss: 0.2606 - accuracy: 0.9027\n",
            "Epoch 9/15\n",
            "1875/1875 [==============================] - 5s 3ms/step - loss: 0.2488 - accuracy: 0.9081\n",
            "Epoch 10/15\n",
            "1875/1875 [==============================] - 5s 2ms/step - loss: 0.2404 - accuracy: 0.9103\n",
            "Epoch 11/15\n",
            "1875/1875 [==============================] - 5s 3ms/step - loss: 0.2314 - accuracy: 0.9131\n",
            "Epoch 12/15\n",
            "1875/1875 [==============================] - 5s 2ms/step - loss: 0.2230 - accuracy: 0.9163\n",
            "Epoch 13/15\n",
            "1875/1875 [==============================] - 5s 2ms/step - loss: 0.2177 - accuracy: 0.9190\n",
            "Epoch 14/15\n",
            "1875/1875 [==============================] - 5s 3ms/step - loss: 0.2129 - accuracy: 0.9212\n",
            "Epoch 15/15\n",
            "1875/1875 [==============================] - 5s 2ms/step - loss: 0.2058 - accuracy: 0.9218\n"
          ]
        },
        {
          "output_type": "execute_result",
          "data": {
            "text/plain": [
              "<keras.callbacks.History at 0x7f635c400a60>"
            ]
          },
          "metadata": {},
          "execution_count": 21
        }
      ],
      "source": [
        "#@title Shallow Model Creation\n",
        "model = tf.keras.Sequential([tf.keras.layers.Flatten(input_shape=(28,28)),\n",
        "                            tf.keras.layers.Dense(128,activation = tf.nn.relu),#Activation function is Relu. applied to each of the neuron\n",
        "                            tf.keras.layers.Dense(10,activation = tf.nn.softmax)]) #Activation function is Softmax, applied to entire layer giving out 10 values\n",
        "\n",
        "model.compile(optimizer=tf.optimizers.Adam(),loss= 'sparse_categorical_crossentropy',metrics=['accuracy'])\n",
        "model.fit(training_images,training_labels,epochs = 15)"
      ]
    },
    {
      "cell_type": "code",
      "execution_count": null,
      "metadata": {
        "colab": {
          "base_uri": "https://localhost:8080/"
        },
        "id": "HZrnKXpwPx0d",
        "outputId": "7ef663de-d986-43ff-d45d-15061c3b32c5"
      },
      "outputs": [
        {
          "output_type": "stream",
          "name": "stdout",
          "text": [
            "313/313 [==============================] - 1s 3ms/step - loss: 0.3405 - accuracy: 0.8902\n"
          ]
        },
        {
          "output_type": "execute_result",
          "data": {
            "text/plain": [
              "[0.34050872921943665, 0.8902000188827515]"
            ]
          },
          "metadata": {},
          "execution_count": 10
        }
      ],
      "source": [
        "#@title Model Evaluation\n",
        "model.evaluate(test_images,test_labels)"
      ]
    },
    {
      "cell_type": "code",
      "source": [
        "classification = model.predict(test_images)\n",
        "print(classification)"
      ],
      "metadata": {
        "colab": {
          "base_uri": "https://localhost:8080/"
        },
        "id": "zm6qcKxEiiwo",
        "outputId": "dbc6d9c4-0ab9-4c26-aded-b9b7cc7c3457"
      },
      "execution_count": null,
      "outputs": [
        {
          "output_type": "stream",
          "name": "stdout",
          "text": [
            "313/313 [==============================] - 1s 1ms/step\n",
            "[[1.4080326e-08 1.7702198e-12 7.4571162e-11 ... 1.2678520e-03\n",
            "  1.7309205e-10 9.9865818e-01]\n",
            " [1.5028004e-03 1.7665631e-14 9.9822479e-01 ... 1.2661220e-23\n",
            "  5.4447587e-15 1.3082014e-18]\n",
            " [2.8642422e-14 1.0000000e+00 2.7793556e-18 ... 9.5033433e-31\n",
            "  3.1175210e-17 3.2846610e-28]\n",
            " ...\n",
            " [1.8038301e-06 5.3005392e-13 2.6435051e-08 ... 1.3531323e-12\n",
            "  9.9998760e-01 5.3090458e-18]\n",
            " [1.1734001e-12 9.9999964e-01 1.4894601e-16 ... 1.9426796e-18\n",
            "  8.5135859e-13 2.9331462e-16]\n",
            " [1.8802572e-08 3.0602760e-12 5.9380584e-10 ... 2.1090923e-04\n",
            "  2.9669934e-06 3.3499154e-07]]\n"
          ]
        }
      ]
    },
    {
      "cell_type": "markdown",
      "source": [
        "\n",
        "Earlier when you trained for extra epochs you had an issue where your loss might change. It might have taken a bit of time for you to wait for the training to do that, and you might have thought 'wouldn't it be nice if I could stop the training when I reach a desired value?' -- i.e. 75% accuracy might be enough for you, and if you reach that after 3 epochs, why sit around waiting for it to finish a lot more epochs....So how would you fix that? Like any other program...you have callbacks! Let's see them in action..."
      ],
      "metadata": {
        "id": "EbL4HP4_QBOG"
      }
    },
    {
      "cell_type": "code",
      "source": [
        "#@title Callbacks\n",
        "class myCallback(tf.keras.callbacks.Callback):\n",
        "  def on_epoch_end(self, epoch, logs={}):\n",
        "    if(logs.get('accuracy') >= 0.75): # Experiment with changing this value\n",
        "      print(\"\\nReached 75% accuracy so cancelling training!\")\n",
        "      self.model.stop_training = True\n",
        "\n",
        "callbacks = myCallback()\n",
        "\n",
        "model.fit(training_images,training_labels,epochs = 15,callbacks=[callbacks])"
      ],
      "metadata": {
        "colab": {
          "base_uri": "https://localhost:8080/"
        },
        "id": "UPp5VrtgPz47",
        "outputId": "5882fe28-6e47-461a-a944-0423c8d6a5d2"
      },
      "execution_count": null,
      "outputs": [
        {
          "output_type": "stream",
          "name": "stdout",
          "text": [
            "Epoch 1/15\n",
            "1875/1875 [==============================] - ETA: 0s - loss: 0.1969 - accuracy: 0.9267\n",
            "Reached 75% accuracy so cancelling training!\n",
            "1875/1875 [==============================] - 5s 2ms/step - loss: 0.1969 - accuracy: 0.9267\n"
          ]
        },
        {
          "output_type": "execute_result",
          "data": {
            "text/plain": [
              "<keras.callbacks.History at 0x7f308ae85a80>"
            ]
          },
          "metadata": {},
          "execution_count": 12
        }
      ]
    },
    {
      "cell_type": "code",
      "source": [
        "#@title Convolutional Neural Networks\n",
        "model_cnn = tf.keras.Sequential([tf.keras.layers.Conv2D(32,(3,3),activation = 'relu',input_shape = (28,28,1)),\n",
        "                                 tf.keras.layers.MaxPool2D(pool_size = (2,2)),\n",
        "                                 tf.keras.layers.Conv2D(64,(3,3),activation='relu'),\n",
        "                                 tf.keras.layers.MaxPool2D(pool_size=(2,2)),\n",
        "                                 tf.keras.layers.Flatten(),\n",
        "                                 tf.keras.layers.Dense(128,activation='relu'),\n",
        "                                 tf.keras.layers.Dense(10,activation='softmax')])\n",
        "model_cnn.summary()\n",
        "model_cnn.compile(optimizer=tf.keras.optimizers.Adam(),loss='sparse_categorical_crossentropy',metrics=['accuracy'])\n"
      ],
      "metadata": {
        "id": "bfrnjgoo6GZj",
        "colab": {
          "base_uri": "https://localhost:8080/"
        },
        "outputId": "019b0ed2-945d-4803-d5c9-ae2512327997"
      },
      "execution_count": null,
      "outputs": [
        {
          "output_type": "stream",
          "name": "stdout",
          "text": [
            "Model: \"sequential_6\"\n",
            "_________________________________________________________________\n",
            " Layer (type)                Output Shape              Param #   \n",
            "=================================================================\n",
            " conv2d_10 (Conv2D)          (None, 26, 26, 32)        320       \n",
            "                                                                 \n",
            " max_pooling2d_10 (MaxPoolin  (None, 13, 13, 32)       0         \n",
            " g2D)                                                            \n",
            "                                                                 \n",
            " conv2d_11 (Conv2D)          (None, 11, 11, 64)        18496     \n",
            "                                                                 \n",
            " max_pooling2d_11 (MaxPoolin  (None, 5, 5, 64)         0         \n",
            " g2D)                                                            \n",
            "                                                                 \n",
            " flatten_6 (Flatten)         (None, 1600)              0         \n",
            "                                                                 \n",
            " dense_12 (Dense)            (None, 128)               204928    \n",
            "                                                                 \n",
            " dense_13 (Dense)            (None, 10)                1290      \n",
            "                                                                 \n",
            "=================================================================\n",
            "Total params: 225,034\n",
            "Trainable params: 225,034\n",
            "Non-trainable params: 0\n",
            "_________________________________________________________________\n"
          ]
        }
      ]
    },
    {
      "cell_type": "code",
      "source": [
        "class myCallback(tf.keras.callbacks.Callback):\n",
        "  def on_epoch_end(self, epoch, logs={}):\n",
        "    if(logs.get('accuracy') >= 0.95): # Experiment with changing this value\n",
        "      print(\"\\nReached 95% accuracy so cancelling training!\")\n",
        "      self.model.stop_training = True\n",
        "\n",
        "callbacks = myCallback()\n",
        "\n",
        "model_cnn.fit(training_images,training_labels,epochs = 20,callbacks=[callbacks])"
      ],
      "metadata": {
        "colab": {
          "base_uri": "https://localhost:8080/"
        },
        "id": "o8HDSK2qJr4h",
        "outputId": "2f324368-cc0b-43c1-b025-d45baef10300"
      },
      "execution_count": null,
      "outputs": [
        {
          "output_type": "stream",
          "name": "stdout",
          "text": [
            "Epoch 1/20\n",
            "1875/1875 [==============================] - 8s 4ms/step - loss: 0.4422 - accuracy: 0.8408\n",
            "Epoch 2/20\n",
            "1875/1875 [==============================] - 7s 4ms/step - loss: 0.2940 - accuracy: 0.8931\n",
            "Epoch 3/20\n",
            "1875/1875 [==============================] - 7s 4ms/step - loss: 0.2502 - accuracy: 0.9075\n",
            "Epoch 4/20\n",
            "1875/1875 [==============================] - 6s 3ms/step - loss: 0.2180 - accuracy: 0.9196\n",
            "Epoch 5/20\n",
            "1875/1875 [==============================] - 7s 4ms/step - loss: 0.1922 - accuracy: 0.9274\n",
            "Epoch 6/20\n",
            "1875/1875 [==============================] - 7s 4ms/step - loss: 0.1711 - accuracy: 0.9367\n",
            "Epoch 7/20\n",
            "1875/1875 [==============================] - 7s 4ms/step - loss: 0.1507 - accuracy: 0.9432\n",
            "Epoch 8/20\n",
            "1875/1875 [==============================] - 6s 3ms/step - loss: 0.1329 - accuracy: 0.9495\n",
            "Epoch 9/20\n",
            "1865/1875 [============================>.] - ETA: 0s - loss: 0.1157 - accuracy: 0.9563\n",
            "Reached 95% accuracy so cancelling training!\n",
            "1875/1875 [==============================] - 9s 5ms/step - loss: 0.1155 - accuracy: 0.9563\n"
          ]
        },
        {
          "output_type": "execute_result",
          "data": {
            "text/plain": [
              "<keras.callbacks.History at 0x7f635c2c4760>"
            ]
          },
          "metadata": {},
          "execution_count": 26
        }
      ]
    },
    {
      "cell_type": "code",
      "source": [
        "model_cnn.evaluate(testing_images,testing_labels)"
      ],
      "metadata": {
        "colab": {
          "base_uri": "https://localhost:8080/"
        },
        "id": "jNPKP5YE-KSk",
        "outputId": "db3d3438-4729-4ed0-86b1-df6753440e37"
      },
      "execution_count": null,
      "outputs": [
        {
          "output_type": "stream",
          "name": "stdout",
          "text": [
            "313/313 [==============================] - 1s 2ms/step - loss: 0.3020 - accuracy: 0.9105\n"
          ]
        },
        {
          "output_type": "execute_result",
          "data": {
            "text/plain": [
              "[0.30202358961105347, 0.9104999899864197]"
            ]
          },
          "metadata": {},
          "execution_count": 27
        }
      ]
    },
    {
      "cell_type": "markdown",
      "source": [
        "# Cat vs Dogs Classification"
      ],
      "metadata": {
        "id": "aA80TkkCGKSq"
      }
    },
    {
      "cell_type": "code",
      "source": [
        "import os\n",
        "import zipfile\n",
        "import random\n",
        "import shutil\n",
        "import tensorflow as tf\n",
        "from tensorflow.keras.preprocessing.image import ImageDataGenerator\n",
        "from shutil import copyfile\n",
        "import matplotlib.pyplot as plt\n",
        "from tensorflow.keras.optimizers import RMSprop"
      ],
      "metadata": {
        "id": "3pHEjdNKtm22"
      },
      "execution_count": null,
      "outputs": []
    },
    {
      "cell_type": "code",
      "source": [
        "!wget --no-check-certificate \\\n",
        "    \"https://download.microsoft.com/download/3/E/1/3E1C3F21-ECDB-4869-8368-6DEBA77B919F/kagglecatsanddogs_5340.zip\" \\\n",
        "    -O \"/tmp/cats-and-dogs.zip\"\n",
        "\n",
        "local_zip = '/tmp/cats-and-dogs.zip'\n",
        "zip_ref   = zipfile.ZipFile(local_zip, 'r')\n",
        "zip_ref.extractall('/tmp')\n",
        "zip_ref.close()"
      ],
      "metadata": {
        "colab": {
          "base_uri": "https://localhost:8080/"
        },
        "id": "l2-gRSBEtzgi",
        "outputId": "745afec2-9e05-4d6f-fe6e-5bdc1d44f267"
      },
      "execution_count": null,
      "outputs": [
        {
          "output_type": "stream",
          "name": "stdout",
          "text": [
            "--2023-06-25 18:09:16--  https://download.microsoft.com/download/3/E/1/3E1C3F21-ECDB-4869-8368-6DEBA77B919F/kagglecatsanddogs_5340.zip\n",
            "Resolving download.microsoft.com (download.microsoft.com)... 173.222.52.223, 2600:1407:3c00:d86::317f, 2600:1407:3c00:d85::317f\n",
            "Connecting to download.microsoft.com (download.microsoft.com)|173.222.52.223|:443... connected.\n",
            "HTTP request sent, awaiting response... 200 OK\n",
            "Length: 824887076 (787M) [application/octet-stream]\n",
            "Saving to: ‘/tmp/cats-and-dogs.zip’\n",
            "\n",
            "/tmp/cats-and-dogs. 100%[===================>] 786.67M   118MB/s    in 6.8s    \n",
            "\n",
            "2023-06-25 18:09:23 (115 MB/s) - ‘/tmp/cats-and-dogs.zip’ saved [824887076/824887076]\n",
            "\n"
          ]
        }
      ]
    },
    {
      "cell_type": "code",
      "source": [
        "source_path = '/tmp/PetImages'\n",
        "\n",
        "source_path_dogs = os.path.join(source_path, 'Dog')\n",
        "source_path_cats = os.path.join(source_path, 'Cat')\n",
        "\n",
        "\n",
        "# os.listdir returns a list containing all files under the given path\n",
        "print(f\"There are {len(os.listdir(source_path_dogs))} images of dogs.\")\n",
        "print(f\"There are {len(os.listdir(source_path_cats))} images of cats.\")"
      ],
      "metadata": {
        "colab": {
          "base_uri": "https://localhost:8080/"
        },
        "id": "ZO-JtFUwwLnm",
        "outputId": "93c7617b-9ead-4f2b-9b28-b516cb605e6f"
      },
      "execution_count": null,
      "outputs": [
        {
          "output_type": "stream",
          "name": "stdout",
          "text": [
            "There are 12501 images of dogs.\n",
            "There are 12501 images of cats.\n"
          ]
        }
      ]
    },
    {
      "cell_type": "code",
      "source": [
        "# Define root directory\n",
        "root_dir = '/tmp/cats-v-dogs'\n",
        "\n",
        "# Empty directory to prevent FileExistsError is the function is run several times\n",
        "if os.path.exists(root_dir):\n",
        "  shutil.rmtree(root_dir)\n",
        "\n",
        "# GRADED FUNCTION: create_train_test_dirs\n",
        "def create_train_test_dirs(root_path):\n",
        "  ### START CODE HERE\n",
        "\n",
        "  # HINT:\n",
        "  # Use os.makedirs to create your directories with intermediate subdirectories\n",
        "  # Don't hardcode the paths. Use os.path.join to append the new directories to the root_path parameter\n",
        "  train_path = os.path.join(root_path, \"training\")\n",
        "  os.makedirs(train_path)\n",
        "  test_path = os.path.join(root_path, \"testing\")\n",
        "  os.makedirs(test_path)\n",
        "  cats_train_path = os.path.join(train_path, \"cats\")\n",
        "  os.makedirs(cats_train_path)\n",
        "  dogs_train_path = os.path.join(train_path, \"dogs\")\n",
        "  os.makedirs(dogs_train_path)\n",
        "  cats_test_path = os.path.join(test_path, \"cats\")\n",
        "  os.makedirs(cats_test_path)\n",
        "  dogs_test_path = os.path.join(test_path, \"dogs\")\n",
        "  os.makedirs(dogs_test_path)\n",
        "\n",
        "  pass\n",
        "\n",
        "  ### END CODE HERE\n",
        "\n",
        "\n",
        "try:\n",
        "  create_train_test_dirs(root_path=root_dir)\n",
        "except FileExistsError:\n",
        "  print(\"You should not be seeing this since the upper directory is removed beforehand\")"
      ],
      "metadata": {
        "id": "CiGtWyVHwXnl"
      },
      "execution_count": null,
      "outputs": []
    },
    {
      "cell_type": "code",
      "source": [
        "\n",
        "\n",
        "# Test your create_train_test_dirs function\n",
        "\n",
        "for rootdir, dirs, files in os.walk(root_dir):\n",
        "    for subdir in dirs:\n",
        "        print(os.path.join(rootdir, subdir))\n",
        "\n"
      ],
      "metadata": {
        "colab": {
          "base_uri": "https://localhost:8080/"
        },
        "id": "yaVrJw7gwYih",
        "outputId": "ea4edc17-bb50-404a-d458-7d179312554a"
      },
      "execution_count": null,
      "outputs": [
        {
          "output_type": "stream",
          "name": "stdout",
          "text": [
            "/tmp/cats-v-dogs/training\n",
            "/tmp/cats-v-dogs/testing\n",
            "/tmp/cats-v-dogs/training/cats\n",
            "/tmp/cats-v-dogs/training/dogs\n",
            "/tmp/cats-v-dogs/testing/cats\n",
            "/tmp/cats-v-dogs/testing/dogs\n"
          ]
        }
      ]
    },
    {
      "cell_type": "code",
      "source": [
        "# GRADED FUNCTION: split_data\n",
        "def split_data(SOURCE, TRAINING, TESTING, SPLIT_SIZE):\n",
        "\n",
        "  ### START CODE HERE\n",
        "  # create list\n",
        "  files_list = []\n",
        "  # get filename by listing directory\n",
        "  for filename in os.listdir(SOURCE):\n",
        "    file = os.path.join(SOURCE, filename)\n",
        "    # check the size of file exists in directory\n",
        "    if(os.path.getsize(file) > 0):\n",
        "      # append to the list\n",
        "      files_list.append(filename)\n",
        "    else:\n",
        "      print('{} is zero length, so ignoring.'.format(filename))\n",
        "\n",
        "  # get the training_len by length of list * split_size\n",
        "  training_len = int(len(files_list) * SPLIT_SIZE)\n",
        "  # get the testing_len by length of list - training_len\n",
        "  testing_len = int(len(files_list) - training_len)\n",
        "  # get random sample\n",
        "  sample_random = random.sample(files_list, len(files_list))\n",
        "  # get the training_set and testing_set\n",
        "  training_set = sample_random[0:training_len]\n",
        "  testing_set = sample_random[-testing_len:]\n",
        "\n",
        "  # for filename in training_set copy to TRAINING path\n",
        "  for filename in training_set:\n",
        "    src = os.path.join(SOURCE, filename)\n",
        "    dest = os.path.join(TRAINING, filename)\n",
        "    # print(src)\n",
        "    # print(\"=====\")\n",
        "    # print(dest)\n",
        "    # print(filename)\n",
        "    copyfile(src, dest)\n",
        "  # for filename in testing_set copy to TESTING\n",
        "  for filename in testing_set:\n",
        "    src = os.path.join(SOURCE, filename)\n",
        "    dest = os.path.join(TESTING, filename)\n",
        "    copyfile(src, dest)\n",
        "\n",
        "  pass\n",
        "\n",
        "  ### END CODE HERE"
      ],
      "metadata": {
        "id": "2T4SauyJwcDc"
      },
      "execution_count": null,
      "outputs": []
    },
    {
      "cell_type": "code",
      "source": [
        "# Test your split_data function\n",
        "\n",
        "# Define paths\n",
        "CAT_SOURCE_DIR = \"/tmp/PetImages/Cat/\"\n",
        "DOG_SOURCE_DIR = \"/tmp/PetImages/Dog/\"\n",
        "\n",
        "TRAINING_DIR = \"/tmp/cats-v-dogs/training/\"\n",
        "TESTING_DIR = \"/tmp/cats-v-dogs/testing/\"\n",
        "\n",
        "TRAINING_CATS_DIR = os.path.join(TRAINING_DIR, \"cats/\")\n",
        "TESTING_CATS_DIR = os.path.join(TESTING_DIR, \"cats/\")\n",
        "\n",
        "TRAINING_DOGS_DIR = os.path.join(TRAINING_DIR, \"dogs/\")\n",
        "TESTING_DOGS_DIR = os.path.join(TESTING_DIR, \"dogs/\")\n",
        "\n",
        "# Empty directories in case you run this cell multiple times\n",
        "if len(os.listdir(TRAINING_CATS_DIR)) > 0:\n",
        "  for file in os.scandir(TRAINING_CATS_DIR):\n",
        "    os.remove(file.path)\n",
        "if len(os.listdir(TRAINING_DOGS_DIR)) > 0:\n",
        "  for file in os.scandir(TRAINING_DOGS_DIR):\n",
        "    os.remove(file.path)\n",
        "if len(os.listdir(TESTING_CATS_DIR)) > 0:\n",
        "  for file in os.scandir(TESTING_CATS_DIR):\n",
        "    os.remove(file.path)\n",
        "if len(os.listdir(TESTING_DOGS_DIR)) > 0:\n",
        "  for file in os.scandir(TESTING_DOGS_DIR):\n",
        "    os.remove(file.path)\n",
        "\n",
        "# Define proportion of images used for training\n",
        "split_size = .9\n",
        "\n",
        "# Run the function\n",
        "# NOTE: Messages about zero length images should be printed out\n",
        "split_data(CAT_SOURCE_DIR, TRAINING_CATS_DIR, TESTING_CATS_DIR, split_size)\n",
        "split_data(DOG_SOURCE_DIR, TRAINING_DOGS_DIR, TESTING_DOGS_DIR, split_size)\n",
        "\n",
        "# Check that the number of images matches the expected output\n",
        "print(f\"\\n\\nThere are {len(os.listdir(TRAINING_CATS_DIR))} images of cats for training\")\n",
        "print(f\"There are {len(os.listdir(TRAINING_DOGS_DIR))} images of dogs for training\")\n",
        "print(f\"There are {len(os.listdir(TESTING_CATS_DIR))} images of cats for testing\")\n",
        "print(f\"There are {len(os.listdir(TESTING_DOGS_DIR))} images of dogs for testing\")"
      ],
      "metadata": {
        "colab": {
          "base_uri": "https://localhost:8080/"
        },
        "id": "cW_ZmA6gwhD7",
        "outputId": "0a552ba9-c004-47e0-86b4-6ccf3e3ab590"
      },
      "execution_count": null,
      "outputs": [
        {
          "output_type": "stream",
          "name": "stdout",
          "text": [
            "666.jpg is zero length, so ignoring.\n",
            "11702.jpg is zero length, so ignoring.\n",
            "\n",
            "\n",
            "There are 11250 images of cats for training\n",
            "There are 11250 images of dogs for training\n",
            "There are 1250 images of cats for testing\n",
            "There are 1250 images of dogs for testing\n"
          ]
        }
      ]
    },
    {
      "cell_type": "code",
      "source": [
        "# GRADED FUNCTION: train_val_generators\n",
        "def train_val_generators(TRAINING_DIR, VALIDATION_DIR):\n",
        "  ### START CODE HERE\n",
        "\n",
        "  # Instantiate the ImageDataGenerator class (don't forget to set the rescale argument)\n",
        "  train_datagen = ImageDataGenerator(rescale=1.0/255.)\n",
        "\n",
        "  # Pass in the appropiate arguments to the flow_from_directory method\n",
        "  train_generator = train_datagen.flow_from_directory(TRAINING_DIR,\n",
        "                                                      batch_size=100,\n",
        "                                                      class_mode='binary',\n",
        "                                                      target_size=(150, 150))\n",
        "\n",
        "  # Instantiate the ImageDataGenerator class (don't forget to set the rescale argument)\n",
        "  validation_datagen = ImageDataGenerator(rescale=1.0/255.)\n",
        "\n",
        "  # Pass in the appropiate arguments to the flow_from_directory method\n",
        "  validation_generator = validation_datagen.flow_from_directory(VALIDATION_DIR,\n",
        "                                                                batch_size=100,\n",
        "                                                                class_mode='binary',\n",
        "                                                                target_size=(150, 150))\n",
        "  ### END CODE HERE\n",
        "  return train_generator, validation_generator"
      ],
      "metadata": {
        "id": "5ewgwwJ0wxzo"
      },
      "execution_count": null,
      "outputs": []
    },
    {
      "cell_type": "code",
      "source": [
        "# Test your generators\n",
        "train_generator, validation_generator = train_val_generators(TRAINING_DIR, TESTING_DIR)"
      ],
      "metadata": {
        "colab": {
          "base_uri": "https://localhost:8080/"
        },
        "id": "N2GRpG0wwyhm",
        "outputId": "959c8b07-d4eb-424f-ad78-0751b535825b"
      },
      "execution_count": null,
      "outputs": [
        {
          "output_type": "stream",
          "name": "stdout",
          "text": [
            "Found 22498 images belonging to 2 classes.\n",
            "Found 2500 images belonging to 2 classes.\n"
          ]
        }
      ]
    },
    {
      "cell_type": "code",
      "source": [
        "# GRADED FUNCTION: create_model\n",
        "def create_model():\n",
        "  # DEFINE A KERAS MODEL TO CLASSIFY CATS V DOGS\n",
        "  # USE AT LEAST 3 CONVOLUTION LAYERS\n",
        "\n",
        "  ### START CODE HERE\n",
        "\n",
        "  model = tf.keras.models.Sequential([\n",
        "      tf.keras.layers.Conv2D(16, (3,3), activation='relu', input_shape=(150, 150, 3)),\n",
        "      tf.keras.layers.MaxPooling2D(2,2),\n",
        "      tf.keras.layers.Conv2D(32, (3,3), activation='relu'),\n",
        "      tf.keras.layers.MaxPooling2D(2,2),\n",
        "      tf.keras.layers.Conv2D(64, (3,3), activation='relu'),\n",
        "      tf.keras.layers.MaxPooling2D(2,2),\n",
        "      # Flatten the results to feed into a DNN\n",
        "      tf.keras.layers.Flatten(),\n",
        "      # 512 neuron hidden layer\n",
        "      tf.keras.layers.Dense(512, activation='relu'),\n",
        "      # Only 1 output neuron. It will contain a value from 0-1 where 0 for 1 class ('cats') and 1 for the other ('dogs')\n",
        "      tf.keras.layers.Dense(1, activation='sigmoid')\n",
        "  ])\n",
        "\n",
        "\n",
        "  model.compile(optimizer=RMSprop(learning_rate=0.001),\n",
        "              loss='binary_crossentropy',\n",
        "              metrics = ['accuracy'])\n",
        "\n",
        "  ### END CODE HERE\n",
        "\n",
        "  return model"
      ],
      "metadata": {
        "id": "LYXefuxIw1So"
      },
      "execution_count": null,
      "outputs": []
    },
    {
      "cell_type": "code",
      "source": [
        "# Get the untrained model\n",
        "model = create_model()\n",
        "\n",
        "# Train the model\n",
        "# Note that this may take some time.\n",
        "history = model.fit(train_generator,\n",
        "                    epochs=15,\n",
        "                    verbose=1,\n",
        "                    validation_data=validation_generator)"
      ],
      "metadata": {
        "colab": {
          "base_uri": "https://localhost:8080/"
        },
        "id": "9H6_Eg7ZxAOb",
        "outputId": "b55e5ffe-bc6a-4aa6-a76f-522b7e3382e6"
      },
      "execution_count": 16,
      "outputs": [
        {
          "output_type": "stream",
          "name": "stdout",
          "text": [
            "Epoch 1/15\n",
            "176/225 [======================>.......] - ETA: 16s - loss: 0.7914 - accuracy: 0.5750"
          ]
        },
        {
          "output_type": "stream",
          "name": "stderr",
          "text": [
            "/usr/local/lib/python3.10/dist-packages/PIL/TiffImagePlugin.py:819: UserWarning: Truncated File Read\n",
            "  warnings.warn(str(msg))\n"
          ]
        },
        {
          "output_type": "stream",
          "name": "stdout",
          "text": [
            "225/225 [==============================] - 96s 377ms/step - loss: 0.7574 - accuracy: 0.5933 - val_loss: 0.5804 - val_accuracy: 0.7012\n",
            "Epoch 2/15\n",
            "225/225 [==============================] - 79s 352ms/step - loss: 0.5658 - accuracy: 0.7058 - val_loss: 0.5121 - val_accuracy: 0.7368\n",
            "Epoch 3/15\n",
            "225/225 [==============================] - 80s 357ms/step - loss: 0.4882 - accuracy: 0.7632 - val_loss: 0.4487 - val_accuracy: 0.7876\n",
            "Epoch 4/15\n",
            "225/225 [==============================] - 84s 372ms/step - loss: 0.4387 - accuracy: 0.7922 - val_loss: 0.4472 - val_accuracy: 0.8044\n",
            "Epoch 5/15\n",
            "225/225 [==============================] - 82s 362ms/step - loss: 0.3929 - accuracy: 0.8206 - val_loss: 0.4158 - val_accuracy: 0.8076\n",
            "Epoch 6/15\n",
            "225/225 [==============================] - 83s 368ms/step - loss: 0.3507 - accuracy: 0.8443 - val_loss: 0.3813 - val_accuracy: 0.8360\n",
            "Epoch 7/15\n",
            "225/225 [==============================] - 83s 371ms/step - loss: 0.2996 - accuracy: 0.8693 - val_loss: 0.3764 - val_accuracy: 0.8352\n",
            "Epoch 8/15\n",
            "225/225 [==============================] - 81s 360ms/step - loss: 0.2372 - accuracy: 0.9027 - val_loss: 0.4517 - val_accuracy: 0.8044\n",
            "Epoch 9/15\n",
            "225/225 [==============================] - 81s 362ms/step - loss: 0.1675 - accuracy: 0.9338 - val_loss: 0.4743 - val_accuracy: 0.8316\n",
            "Epoch 10/15\n",
            "225/225 [==============================] - 80s 353ms/step - loss: 0.1012 - accuracy: 0.9640 - val_loss: 0.5318 - val_accuracy: 0.8364\n",
            "Epoch 11/15\n",
            "225/225 [==============================] - 78s 347ms/step - loss: 0.0746 - accuracy: 0.9764 - val_loss: 0.6341 - val_accuracy: 0.8236\n",
            "Epoch 12/15\n",
            "225/225 [==============================] - 82s 362ms/step - loss: 0.0501 - accuracy: 0.9853 - val_loss: 0.7285 - val_accuracy: 0.8312\n",
            "Epoch 13/15\n",
            "225/225 [==============================] - 78s 348ms/step - loss: 0.0557 - accuracy: 0.9864 - val_loss: 0.8771 - val_accuracy: 0.8156\n",
            "Epoch 14/15\n",
            "225/225 [==============================] - 80s 357ms/step - loss: 0.0404 - accuracy: 0.9903 - val_loss: 0.7571 - val_accuracy: 0.8360\n",
            "Epoch 15/15\n",
            "225/225 [==============================] - 81s 358ms/step - loss: 0.0117 - accuracy: 0.9961 - val_loss: 1.1321 - val_accuracy: 0.8228\n"
          ]
        }
      ]
    },
    {
      "cell_type": "code",
      "source": [
        "#-----------------------------------------------------------\n",
        "# Retrieve a list of list results on training and test data\n",
        "# sets for each training epoch\n",
        "#-----------------------------------------------------------\n",
        "acc=history.history['accuracy']\n",
        "val_acc=history.history['val_accuracy']\n",
        "loss=history.history['loss']\n",
        "val_loss=history.history['val_loss']\n",
        "\n",
        "epochs=range(len(acc)) # Get number of epochs\n",
        "\n",
        "#------------------------------------------------\n",
        "# Plot training and validation accuracy per epoch\n",
        "#------------------------------------------------\n",
        "plt.plot(epochs, acc, 'r', \"Training Accuracy\")\n",
        "plt.plot(epochs, val_acc, 'b', \"Validation Accuracy\")\n",
        "plt.title('Training and validation accuracy')\n",
        "plt.show()\n",
        "print(\"\")\n",
        "\n",
        "#------------------------------------------------\n",
        "# Plot training and validation loss per epoch\n",
        "#------------------------------------------------\n",
        "plt.plot(epochs, loss, 'r', \"Training Loss\")\n",
        "plt.plot(epochs, val_loss, 'b', \"Validation Loss\")\n",
        "plt.show()"
      ],
      "metadata": {
        "id": "QG3HB0LZxA_A",
        "colab": {
          "base_uri": "https://localhost:8080/",
          "height": 883
        },
        "outputId": "38a8a0c8-6a59-47fb-a215-0c37f378e0e1"
      },
      "execution_count": 17,
      "outputs": [
        {
          "output_type": "display_data",
          "data": {
            "text/plain": [
              "<Figure size 640x480 with 1 Axes>"
            ],
            "image/png": "[encoded data removed]"
          },
          "metadata": {}
        },
        {
          "output_type": "stream",
          "name": "stdout",
          "text": [
            "\n"
          ]
        },
        {
          "output_type": "display_data",
          "data": {
            "text/plain": [
              "<Figure size 640x480 with 1 Axes>"
            ],
            "image/png": "[encoded data removed]"
          },
          "metadata": {}
        }
      ]
    },
    {
      "cell_type": "code",
      "source": [
        "def download_history():\n",
        "  import pickle\n",
        "  from google.colab import files\n",
        "\n",
        "  with open('history.pkl', 'wb') as f:\n",
        "    pickle.dump(history.history, f)\n",
        "\n",
        "  files.download('history.pkl')\n",
        "\n",
        "download_history()\n",
        "\n"
      ],
      "metadata": {
        "colab": {
          "base_uri": "https://localhost:8080/",
          "height": 17
        },
        "id": "KxmkFfP52YVj",
        "outputId": "57bf5780-616a-4cf5-ab40-a0fe98581e6e"
      },
      "execution_count": 18,
      "outputs": [
        {
          "output_type": "display_data",
          "data": {
            "text/plain": [
              "<IPython.core.display.Javascript object>"
            ],
            "application/javascript": [
              "\n",
              "    async function download(id, filename, size) {\n",
              "      if (!google.colab.kernel.accessAllowed) {\n",
              "        return;\n",
              "      }\n",
              "      const div = document.createElement('div');\n",
              "      const label = document.createElement('label');\n",
              "      label.textContent = `Downloading \"${filename}\": `;\n",
              "      div.appendChild(label);\n",
              "      const progress = document.createElement('progress');\n",
              "      progress.max = size;\n",
              "      div.appendChild(progress);\n",
              "      document.body.appendChild(div);\n",
              "\n",
              "      const buffers = [];\n",
              "      let downloaded = 0;\n",
              "\n",
              "      const channel = await google.colab.kernel.comms.open(id);\n",
              "      // Send a message to notify the kernel that we're ready.\n",
              "      channel.send({})\n",
              "\n",
              "      for await (const message of channel.messages) {\n",
              "        // Send a message to notify the kernel that we're ready.\n",
              "        channel.send({})\n",
              "        if (message.buffers) {\n",
              "          for (const buffer of message.buffers) {\n",
              "            buffers.push(buffer);\n",
              "            downloaded += buffer.byteLength;\n",
              "            progress.value = downloaded;\n",
              "          }\n",
              "        }\n",
              "      }\n",
              "      const blob = new Blob(buffers, {type: 'application/binary'});\n",
              "      const a = document.createElement('a');\n",
              "      a.href = window.URL.createObjectURL(blob);\n",
              "      a.download = filename;\n",
              "      div.appendChild(a);\n",
              "      a.click();\n",
              "      div.remove();\n",
              "    }\n",
              "  "
            ]
          },
          "metadata": {}
        },
        {
          "output_type": "display_data",
          "data": {
            "text/plain": [
              "<IPython.core.display.Javascript object>"
            ],
            "application/javascript": [
              "download(\"download_70054e60-ff45-4637-af12-c2e2a9f6573a\", \"history.pkl\", 616)"
            ]
          },
          "metadata": {}
        }
      ]
    }
  ],
  "metadata": {
    "accelerator": "GPU",
    "colab": {
      "toc_visible": true,
      "provenance": [],
      "gpuType": "T4"
    },
    "kernelspec": {
      "display_name": "Python 3",
      "name": "python3"
    },
    "language_info": {
      "name": "python"
    }
  },
  "nbformat": 4,
  "nbformat_minor": 0
}